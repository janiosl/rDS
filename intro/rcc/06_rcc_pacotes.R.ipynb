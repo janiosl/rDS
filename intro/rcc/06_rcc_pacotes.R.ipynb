{
 "cells": [
  {
   "cell_type": "markdown",
   "metadata": {},
   "source": [
    "# R Crash Course (06): Uso e instalação de pacotes do R"
   ]
  },
  {
   "cell_type": "markdown",
   "metadata": {},
   "source": [
    "## 1 Operações básicas para gerenciar pacotes"
   ]
  },
  {
   "cell_type": "markdown",
   "metadata": {},
   "source": [
    "As células a seguir demonstram os comandos básicos para gerenciamento de pacotes no R, abrangendo as ações:\n",
    "* **Uso**;\n",
    "* **Instalação**;\n",
    "* **Remoção**.\n",
    "\n",
    "Para realizar estas tarefas vamos simular a tentativa de carga de um pacote inexistente em nosso ambiente. Para isso vamos carregar o pacote de análise de séries temporais denominado **TSPred** [Salles et al., 2021]. Como o pacote não está instalado, o interpretador do R apresentará uma mensagem de erro. Essa situação é muito comum no dia a dia de uso da linguagem, pois à medida que avançamos nos estudos conhecemos novas funcionalidades que estão implementadas em pacotes novos ou que dependem de algum pacote para funcionamento adequado."
   ]
  },
  {
   "cell_type": "code",
   "execution_count": 1,
   "metadata": {},
   "outputs": [
    {
     "ename": "ERROR",
     "evalue": "Error in library(TSPred): there is no package called 'TSPred'\n",
     "output_type": "error",
     "traceback": [
      "Error in library(TSPred): there is no package called 'TSPred'\nTraceback:\n",
      "1. library(TSPred)"
     ]
    }
   ],
   "source": [
    "#Tentativa de uso de um pacote não instalado\n",
    "library(TSPred)"
   ]
  },
  {
   "cell_type": "markdown",
   "metadata": {},
   "source": [
    "Para solucionar a ausência do pacote desejado, realizaremos em seguida sua instalação usando a função `install.packages`. Esta função é bem simples, recebendo como parâmetro apenas o nome do pacote desejado entre aspas. Note neste ponto que na função anterior (`library`), para carga do pacote, não é necessário que o nome do pacote esteja entre aspas. Há outros parâmetros no uso desta função, mas deixaremos sua explicação para uma das aulas em vídeo do **R Crash Course**."
   ]
  },
  {
   "cell_type": "code",
   "execution_count": 2,
   "metadata": {},
   "outputs": [
    {
     "name": "stderr",
     "output_type": "stream",
     "text": [
      "Installing package into 'C:/Users/janio/OneDrive/Documents/R/win-library/3.6'\n",
      "(as 'lib' is unspecified)\n"
     ]
    },
    {
     "name": "stdout",
     "output_type": "stream",
     "text": [
      "package 'TSPred' successfully unpacked and MD5 sums checked\n",
      "\n",
      "The downloaded binary packages are in\n",
      "\tC:\\Users\\janio\\AppData\\Local\\Temp\\RtmpAndjqe\\downloaded_packages\n"
     ]
    }
   ],
   "source": [
    "#Instalando o pacote desejado\n",
    "install.packages(\"TSPred\")"
   ]
  },
  {
   "cell_type": "markdown",
   "metadata": {},
   "source": [
    "Agora que o pacote desejado está devidamente instalado, a função `library` pode ser chamada novamente. Note que no caso específico do pacote `TSPred`, está sendo exibida uma mensagem, mas veja que é diferente daquela exibida na primeira tentativa, pois enquanto anteriormente foi exibida uma mensagem do tipo `Error`, agora temos apenas uma `Warning`. Este tipo de mensagem é comum, quando há algum alerta para ser interpretado pelo responsável pelo código, mas aqui não há problema, podendo ser ignorada, tendo em vista que está apenas alertando sobre a versão do R sob a qual o pacote foi desenvolvido."
   ]
  },
  {
   "cell_type": "code",
   "execution_count": 3,
   "metadata": {},
   "outputs": [
    {
     "name": "stderr",
     "output_type": "stream",
     "text": [
      "Warning message:\n",
      "\"package 'TSPred' was built under R version 3.6.3\"\n",
      "Attaching package: 'TSPred'\n",
      "\n",
      "The following object is masked from 'package:base':\n",
      "\n",
      "    subset\n",
      "\n"
     ]
    }
   ],
   "source": [
    "#Carregando o pacote após sua instalação\n",
    "library(TSPred)"
   ]
  },
  {
   "cell_type": "markdown",
   "metadata": {},
   "source": [
    "Uma vez que a biblioteca está carregada, ela pode ser usada através da chamada de suas funções, ampliando os \"poderes\" do R acrescentando todas as funcionalidades que a nova biblioteca implementa. Nas seções a seguir, abordaremos o uso propriamente dito das funções de uma biblioteca carregada, mas antes vejamos duas últimas funcionalidades: carga de pacotes dentro de funções personalizadas$^{(1)}$ e remoção (desintalação) de pacotes.\n",
    "\n",
    "*$(1)$ Estudaremos em detalhes a criação de funções personalziadas em uma aula futura.*\n",
    "\n",
    "Quando um pacote é necessário para realização de ações dentro de uma função personalizada que você está criando, ao invés de carregá-la com a função `library` a boa prática é que você use a função `require`, que permitirá que o R gerencie o contexto no qual aquele pacote será utilizado. Além de ser uma boa prática recomendada, o que garante compatibilidade de suas funções à medida que a linguagem avança em suas atualizações, isso permite que o R torne o uso de pacotes dentro de funções mais eficiente."
   ]
  },
  {
   "cell_type": "code",
   "execution_count": 7,
   "metadata": {},
   "outputs": [
    {
     "name": "stdout",
     "output_type": "stream",
     "text": [
      "[1] \"Esta função pessoal não faz nada\"\n",
      "[1] \"Apenas carrega o pacote requerido\"\n"
     ]
    }
   ],
   "source": [
    "#Carregando um pacote em uma função\n",
    "funcao_qualquer <- function(){\n",
    "    print(\"Esta função pessoal não faz nada\")\n",
    "    print(\"Apenas carrega o pacote requerido\")\n",
    "    \n",
    "    #Carga dos pacotes requeridos para funcionamento da função pessoal\n",
    "    require(TSPred)\n",
    "    \n",
    "    #Aqui você poderia inserir as instruções adicionais da função\n",
    "    #...\n",
    "}\n",
    "\n",
    "#Usando a função\n",
    "funcao_qualquer()"
   ]
  },
  {
   "cell_type": "code",
   "execution_count": 6,
   "metadata": {},
   "outputs": [
    {
     "name": "stderr",
     "output_type": "stream",
     "text": [
      "Removing package from 'C:/Users/janio/OneDrive/Documents/R/win-library/3.6'\n",
      "(as 'lib' is unspecified)\n"
     ]
    }
   ],
   "source": [
    "#Removendo um pacote que não será mais usado\n",
    "remove.packages(\"TSPred\")"
   ]
  },
  {
   "cell_type": "markdown",
   "metadata": {},
   "source": [
    "## 2 Exemplos práticos de uso de pacotes"
   ]
  },
  {
   "cell_type": "markdown",
   "metadata": {},
   "source": [
    "Seção em desenvolvimento..."
   ]
  },
  {
   "cell_type": "code",
   "execution_count": 18,
   "metadata": {},
   "outputs": [
    {
     "name": "stderr",
     "output_type": "stream",
     "text": [
      "Installing package into 'C:/Users/janio/OneDrive/Documents/R/win-library/3.6'\n",
      "(as 'lib' is unspecified)\n",
      "also installing the dependencies 'cpp11', 'vroom', 'tzdb'\n",
      "\n"
     ]
    },
    {
     "name": "stdout",
     "output_type": "stream",
     "text": [
      "\n",
      "  There are binary versions available but the source versions are later:\n",
      "      binary source needs_compilation\n",
      "cpp11  0.2.7  0.3.1             FALSE\n",
      "vroom  1.4.0  1.5.3              TRUE\n",
      "tzdb   0.1.1  0.1.2              TRUE\n",
      "readr  1.4.0  2.0.0              TRUE\n",
      "\n",
      "  Binaries will be installed\n",
      "package 'vroom' successfully unpacked and MD5 sums checked\n",
      "package 'tzdb' successfully unpacked and MD5 sums checked\n",
      "package 'readr' successfully unpacked and MD5 sums checked\n",
      "\n",
      "The downloaded binary packages are in\n",
      "\tC:\\Users\\janio\\AppData\\Local\\Temp\\RtmpAndjqe\\downloaded_packages\n"
     ]
    },
    {
     "name": "stderr",
     "output_type": "stream",
     "text": [
      "installing the source package 'cpp11'\n",
      "\n"
     ]
    }
   ],
   "source": [
    "#Instalando um pacote para leitura de dados otimizada\n",
    "install.packages(\"readr\")"
   ]
  },
  {
   "cell_type": "code",
   "execution_count": 20,
   "metadata": {},
   "outputs": [
    {
     "name": "stderr",
     "output_type": "stream",
     "text": [
      "Warning message:\n",
      "\"package 'readr' was built under R version 3.6.3\""
     ]
    }
   ],
   "source": [
    "#Carga do pacote\n",
    "library(readr)"
   ]
  },
  {
   "cell_type": "code",
   "execution_count": 21,
   "metadata": {},
   "outputs": [
    {
     "name": "stderr",
     "output_type": "stream",
     "text": [
      "\n",
      "-- Column specification ---------------------------------------------------------------------------------------------\n",
      "cols(\n",
      "  Ticker = col_character(),\n",
      "  Date = col_date(format = \"\"),\n",
      "  High = col_double(),\n",
      "  Low = col_double(),\n",
      "  Open = col_double(),\n",
      "  Close = col_double(),\n",
      "  Volume = col_double(),\n",
      "  `Adj Close` = col_double()\n",
      ")\n",
      "\n"
     ]
    }
   ],
   "source": [
    "#Uso de uma função do pacote\n",
    "arquivo <- \"https://github.com/janiosl/python.ds/raw/master/data/yahoo_stock_12-12-2020.csv\"\n",
    "\n",
    "#Esta função \"read_csv\" só é disponível após instalação e carga do pacote readr\n",
    "preco_acoes <- read_csv(arquivo)"
   ]
  },
  {
   "cell_type": "code",
   "execution_count": 23,
   "metadata": {},
   "outputs": [
    {
     "data": {
      "text/html": [
       "<table>\n",
       "<thead><tr><th scope=col>Ticker</th><th scope=col>Date</th><th scope=col>High</th><th scope=col>Low</th><th scope=col>Open</th><th scope=col>Close</th><th scope=col>Volume</th><th scope=col>Adj Close</th></tr></thead>\n",
       "<tbody>\n",
       "\t<tr><td>GGBR4.SA  </td><td>2010-01-04</td><td>29.80     </td><td>29.28     </td><td>29.30     </td><td>29.60     </td><td>2827700   </td><td>25.25784  </td></tr>\n",
       "\t<tr><td>GGBR4.SA  </td><td>2010-01-05</td><td>30.17     </td><td>29.65     </td><td>29.74     </td><td>30.10     </td><td>4480400   </td><td>25.68450  </td></tr>\n",
       "\t<tr><td>GGBR4.SA  </td><td>2010-01-06</td><td>30.38     </td><td>29.86     </td><td>29.96     </td><td>30.30     </td><td>4499900   </td><td>25.85516  </td></tr>\n",
       "\t<tr><td>GGBR4.SA  </td><td>2010-01-07</td><td>30.38     </td><td>29.52     </td><td>30.10     </td><td>29.62     </td><td>5695900   </td><td>25.27492  </td></tr>\n",
       "\t<tr><td>GGBR4.SA  </td><td>2010-01-08</td><td>29.88     </td><td>29.35     </td><td>29.72     </td><td>29.54     </td><td>4269500   </td><td>25.20665  </td></tr>\n",
       "\t<tr><td>GGBR4.SA  </td><td>2010-01-11</td><td>29.99     </td><td>29.50     </td><td>29.80     </td><td>29.56     </td><td>3923600   </td><td>25.22372  </td></tr>\n",
       "</tbody>\n",
       "</table>\n"
      ],
      "text/latex": [
       "\\begin{tabular}{r|llllllll}\n",
       " Ticker & Date & High & Low & Open & Close & Volume & Adj Close\\\\\n",
       "\\hline\n",
       "\t GGBR4.SA   & 2010-01-04 & 29.80      & 29.28      & 29.30      & 29.60      & 2827700    & 25.25784  \\\\\n",
       "\t GGBR4.SA   & 2010-01-05 & 30.17      & 29.65      & 29.74      & 30.10      & 4480400    & 25.68450  \\\\\n",
       "\t GGBR4.SA   & 2010-01-06 & 30.38      & 29.86      & 29.96      & 30.30      & 4499900    & 25.85516  \\\\\n",
       "\t GGBR4.SA   & 2010-01-07 & 30.38      & 29.52      & 30.10      & 29.62      & 5695900    & 25.27492  \\\\\n",
       "\t GGBR4.SA   & 2010-01-08 & 29.88      & 29.35      & 29.72      & 29.54      & 4269500    & 25.20665  \\\\\n",
       "\t GGBR4.SA   & 2010-01-11 & 29.99      & 29.50      & 29.80      & 29.56      & 3923600    & 25.22372  \\\\\n",
       "\\end{tabular}\n"
      ],
      "text/markdown": [
       "\n",
       "| Ticker | Date | High | Low | Open | Close | Volume | Adj Close |\n",
       "|---|---|---|---|---|---|---|---|\n",
       "| GGBR4.SA   | 2010-01-04 | 29.80      | 29.28      | 29.30      | 29.60      | 2827700    | 25.25784   |\n",
       "| GGBR4.SA   | 2010-01-05 | 30.17      | 29.65      | 29.74      | 30.10      | 4480400    | 25.68450   |\n",
       "| GGBR4.SA   | 2010-01-06 | 30.38      | 29.86      | 29.96      | 30.30      | 4499900    | 25.85516   |\n",
       "| GGBR4.SA   | 2010-01-07 | 30.38      | 29.52      | 30.10      | 29.62      | 5695900    | 25.27492   |\n",
       "| GGBR4.SA   | 2010-01-08 | 29.88      | 29.35      | 29.72      | 29.54      | 4269500    | 25.20665   |\n",
       "| GGBR4.SA   | 2010-01-11 | 29.99      | 29.50      | 29.80      | 29.56      | 3923600    | 25.22372   |\n",
       "\n"
      ],
      "text/plain": [
       "  Ticker   Date       High  Low   Open  Close Volume  Adj Close\n",
       "1 GGBR4.SA 2010-01-04 29.80 29.28 29.30 29.60 2827700 25.25784 \n",
       "2 GGBR4.SA 2010-01-05 30.17 29.65 29.74 30.10 4480400 25.68450 \n",
       "3 GGBR4.SA 2010-01-06 30.38 29.86 29.96 30.30 4499900 25.85516 \n",
       "4 GGBR4.SA 2010-01-07 30.38 29.52 30.10 29.62 5695900 25.27492 \n",
       "5 GGBR4.SA 2010-01-08 29.88 29.35 29.72 29.54 4269500 25.20665 \n",
       "6 GGBR4.SA 2010-01-11 29.99 29.50 29.80 29.56 3923600 25.22372 "
      ]
     },
     "metadata": {},
     "output_type": "display_data"
    }
   ],
   "source": [
    "#Exibindo as primeiras linhas do conjunto de dados\n",
    "head(preco_acoes)"
   ]
  },
  {
   "cell_type": "markdown",
   "metadata": {},
   "source": [
    "O uso da biblioteca `readr`abre espaço para um estudo futuro de um conjunto de pacotes denominado `tidyverse` que implementa uma série de funcionalidades, criando praticamente um universo novo dentro da comunidade R. O `tidyverse` e mais detalhes da `readr` não cabem no escopo dessa seção, mas teremos em breve ainda no **R Crash Course** conteúdos adicionais sobre este universo.\n",
    "\n",
    "Para conhecer mais sobre carga de dados usando as funcionalidades do pacote `readr` acesse: [**readr Cheat Sheet**](https://github.com/rstudio/cheatsheets/raw/master/data-import.pdf)"
   ]
  },
  {
   "cell_type": "markdown",
   "metadata": {},
   "source": [
    "## 3 Outras formas de carga e instalação de bibliotecas"
   ]
  },
  {
   "cell_type": "markdown",
   "metadata": {},
   "source": [
    "## 3.1 Usando a interface gráfica para gerenciar pacotes"
   ]
  },
  {
   "cell_type": "markdown",
   "metadata": {},
   "source": [
    "Para carregar um pacote já instalado, usando a interface gráfica do R, basta seguir o passo a passo ilustrado nas imagens abaixo:\n",
    "\n",
    "**1. Acessar o menu \"Pacotes\" e acionar a opção \"Carregar pacote...\"**\n",
    "![](https://github.com/janiosl/rDS/blob/main/intro/rcc/06_rcc_Menu_Pacotes.PNG?raw=true)\n",
    "\n",
    "\n",
    "**2. Selecionar o pacote desejado e acionar o botão \"OK\"**\n",
    "![](https://github.com/janiosl/rDS/blob/main/intro/rcc/06_rcc_Carregar_Pacotes.PNG?raw=true)\n"
   ]
  },
  {
   "cell_type": "markdown",
   "metadata": {},
   "source": [
    "A instalação também é bem simples$^{(2)}$ através da interface gráfica, conforme passo a passo abaixo:\n",
    "\n",
    "**1. No mesmo menu \"Pacotes\" acione a opção \"Instalar pacote(s)...\"**\n",
    "\n",
    "**2. Na tela seguinte será solicitado que selecione o CRAN mirror$^{(3)}$ (repositório oficial do R no qual seu pacote será procurado), por exemplo Brazil(RJ).**\n",
    "![](https://github.com/janiosl/rDS/blob/main/intro/rcc/06_rcc_CRAN.PNG?raw=true)\n",
    "\n",
    "**3. Na tela seguinte selecione o pacote desejado e confirme no botão \"OK\"**\n",
    "![](https://github.com/janiosl/rDS/blob/main/intro/rcc/06_rcc_Instalar_Pacotes.PNG?raw=true)\n",
    "\n",
    "$(2)$ Apesar de ser simples esta forma, recomendamos que prefira o uso da instalação através da linha de comando (funções usadas no prompt de comando ou em seu script), pois isso garante uma melhor confiabilidade de que a instalação será realizada no ponto certo do código e permite a reprodução por qualquer pessoa.\n",
    "$(3)$ Pode escolher qualquer uma das opções, por exemplo Brazil(RJ), pois como são espelhos do repositório oficial normalmente terão o pacote desejado, mas é aconselhável como boa prática da comunidade R para evitar sobrecargas e aumentar a velocidade que escolha o CRAN mais próximo da localidade onde está no momento da instalação. Para conhecer mais sobre o tema acesse: https://cran.r-project.org/"
   ]
  },
  {
   "cell_type": "markdown",
   "metadata": {},
   "source": [
    "## 3.2 Carregando pacotes de repositórios online"
   ]
  },
  {
   "cell_type": "markdown",
   "metadata": {},
   "source": [
<<<<<<< HEAD
    "Há uma outra função no R muito útil para carregar pacotes que não estejam disponíveis para instalação diretamente de um CRAN oficial do R, mas que seja útil para alguma análise que você esteja realizando. Trata-se da função `source`, esta função recebe um script qualquer do R e a carrega todo o seu conteúdo para o ambiente de trabalho atual. Como um script R que contenha apenas funções funciona de maneira muito similar a uma biblioteca, este tipo de ação, permite o uso de bibliotecas disponíveis em qualquer repositóri$^{(2)}$.\n",
    "\n",
    "$(2)$ **ATENÇÃO**: *É preciso ter cuidado com esta abordagem para carga de pacotes, pois como este comando carrega as funções de códigos desenvolvidos por qualquer pessoa, não há garantia da qualidade, correção ou mesmo de inexistência de código malicioso na fonte. Por este motivo, é preferível utilizar pacotes com as funções anteriores, mas é importante conhecer todos os caminhos, pois em alguns casos você mesmo poderá precisar criar pacotes ou usar pacotes criados por fontes confiáveis, como um time interno de trabalho colaborativo ou projetos de pesquisa como o que será apresentado no exemplo desta seção.*\n",
=======
    "Há uma outra função no R muito útil para carregar pacotes que não estejam disponíveis para instalação diretamente de um CRAN oficial do R, mas que seja útil para alguma análise que você esteja realizando. Trata-se da função `source`, esta função recebe um script qualquer do R e a carrega todo o seu conteúdo para o ambiente de trabalho atual. Como um script R que contenha apenas funções funciona de maneira muito similar a uma biblioteca, este tipo de ação, permite o uso de bibliotecas disponíveis em qualquer repositóri$^{(4)}$.\n",
    "\n",
    "$(4)$ **ATENÇÃO**: *É preciso ter cuidado com esta abordagem para carga de pacotes, pois como este comando carrega as funções de códigos desenvolvidos por qualquer pessoa, não há garantia da qualidade, correção ou mesmo de inexistência de código malicioso na fonte. Por este motivo, é preferível utilizar pacotes com as funções anteriores, mas é importante conhecer todos os caminhos, pois em alguns casos você mesmo poderá precisar criar pacotes ou usar pacotes criados por fontes confiáveis, como um time interno de trabalho colaborativo ou projetos de pesquisa como o que será apresentado no exemplo desta seção.*\n",
>>>>>>> bc87f38c3dbd07090a8b8230f85476caff90e5a5
    "\n",
    "---\n",
    "\n",
    "Séries temporais são dados organizados de maneira cronológica, podendo ser de diversas áreas de domínio, mas tendo uso muito comum em dados econômicos e financeiros ao longo do tempo, por exemplo para acompanhamento de preços de ações, índices de inflação ou receitas de uma organização. Há diversas técnias de análise de séries temporais como identificação de suas características, decomposição de componentes como sazonalidade, tendência e comportamento aleatório, modelagem e predição de observações futuras [Barros et al, 2020]. Uma área muito importante deste estudo é a identificação de eventos, técnica que visa identificar pontos com um significado em uma sérei temporal como mudanças no comportamento da série temporal, anomalias e picos [Guralink e Srivastava, 1999].\n",
    "\n",
    "No exemplo abaixo vamos carregar uma versão estável do pacote [*Harbinger*](https://eic.cefet-rj.br/~dal/harbinger/) [Salles et al., 2020] desenvolvido pelo grupo de pesquisa [**Data Analytics Laboratory (DAL)**](https://eic.cefet-rj.br/~dal/) do CEFET/RJ para análise e uso de algoritmos de detecção de eventos em séries temporais com uso de métodos estatísticos e de aprendizado de máquina."
   ]
  },
  {
   "cell_type": "code",
   "execution_count": 8,
   "metadata": {},
   "outputs": [],
   "source": [
    "#Carga da versão estável do Harbinger\n",
    "source(\"https://raw.githubusercontent.com/cefet-rj-dal/harbinger/master/harbinger.R\")"
   ]
  },
  {
   "cell_type": "code",
   "execution_count": 9,
   "metadata": {},
   "outputs": [
    {
     "name": "stderr",
     "output_type": "stream",
     "text": [
      "Warning message:\n",
      "\"package 'EventDetectR' was built under R version 3.6.3\"Registered S3 method overwritten by 'quantmod':\n",
      "  method            from\n",
      "  as.zoo.data.frame zoo \n"
     ]
    }
   ],
   "source": [
    "#Exemplo simples de uso do Harbinger para detecção de anomalias em uma série temporal\n",
    "#Carga dos dados\n",
    "#Usaremos uma outra biblioteca que disponibiliza um dataset sobre qualidade da água\n",
    "library(EventDetectR)\n",
    "gecco <- geccoIC2018Train[16500:18000,]"
   ]
  },
  {
   "cell_type": "code",
   "execution_count": 10,
   "metadata": {},
   "outputs": [
    {
     "data": {
      "image/png": "iVBORw0KGgoAAAANSUhEUgAAA0gAAANICAMAAADKOT/pAAAAMFBMVEUAAABNTU1oaGh8fHyM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\nZDYGH+JSAAAAAElFTkSuQmCC",
      "text/plain": [
       "plot without title"
      ]
     },
     "metadata": {},
     "output_type": "display_data"
    }
   ],
   "source": [
    "#Visualização da série temporal com os dados do pH da água analisada\n",
    "plot(ts(gecco$pH),type=\"l\",xlab=\"time\")"
   ]
  },
  {
   "cell_type": "code",
   "execution_count": 11,
   "metadata": {},
   "outputs": [],
   "source": [
    "#Seleção do atribuo a ser analisado (pH da água)\n",
    "test <- subset(gecco, select=c(Time, pH))\n",
    "\n",
    "#Separação dos dados com os rótulos para confirmação do resultado da detecção\n",
    "reference <- subset(gecco, select=c(Time, EVENT))"
   ]
  },
  {
   "cell_type": "code",
   "execution_count": 13,
   "metadata": {},
   "outputs": [
    {
     "name": "stderr",
     "output_type": "stream",
     "text": [
      "Loading required package: ggplot2\n",
      "Warning message:\n",
      "\"package 'ggplot2' was built under R version 3.6.3\""
     ]
    },
    {
     "data": {
      "image/png": "iVBORw0KGgoAAAANSUhEUgAAA0gAAANICAMAAADKOT/pAAAAOVBMVEUAAAAA/wAzMzNNTU1o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",
      "text/plain": [
       "plot without title"
      ]
     },
     "metadata": {},
     "output_type": "display_data"
    }
   ],
   "source": [
    "#====== Adaptive Normalization Outliers ======\n",
    "#Detect\n",
    "events_an <- evtdet.an_outliers(test,w=20,alpha=1.5)\n",
    "#Plot\n",
    "print(evtplot(test,events_an,reference))"
   ]
  },
  {
   "cell_type": "code",
   "execution_count": 14,
   "metadata": {},
   "outputs": [
    {
     "data": {
      "text/plain": [
       "         Events      \n",
       "Detected TRUE   FALSE\n",
       "TRUE     72     145  \n",
       "FALSE    0      1284 "
      ]
     },
     "metadata": {},
     "output_type": "display_data"
    }
   ],
   "source": [
    "evaluate(events_an, reference, metric=\"confusion_matrix\")"
   ]
  },
  {
   "cell_type": "code",
   "execution_count": 16,
   "metadata": {},
   "outputs": [
    {
     "data": {
      "text/html": [
       "0.498269896193772"
      ],
      "text/latex": [
       "0.498269896193772"
      ],
      "text/markdown": [
       "0.498269896193772"
      ],
      "text/plain": [
       "[1] 0.4982699"
      ]
     },
     "metadata": {},
     "output_type": "display_data"
    }
   ],
   "source": [
    "evaluate(events_an, reference, metric=\"F1\")"
   ]
  },
  {
   "cell_type": "markdown",
   "metadata": {},
   "source": [
    "Dada a abrangência do tema \"**Análise de Séries Temporais**\", não cabe no escopo dessa seção e mesmo do **R Crash Course** uma discussão detalhada, por isso, as tarefas desenvolvidas aqui são apenas um exemplo bem simplificado de um tipo de tarefa relacionada ao tema. Para estudo mais detalhado as referências deste notebook são bons lugares de início, mas posteriormente poderá ser analisada a criação de um curso específico sobre o tema ou reativação de cursos relacionados."
   ]
  },
  {
   "cell_type": "markdown",
   "metadata": {},
   "source": [
    "## Referências"
   ]
  },
  {
   "cell_type": "markdown",
   "metadata": {},
   "source": [
    "Anna Carolina Barros, Daiane Marcolino de Mattos, Ingrid Christyane Luquett de Oliveira, Pedro Guilherme Costa Ferreira, Victor Eduardo Leite de Almeida Duca. **Análise de Séries Temporais em R**: um curso introdutório. Atlas, 2020.\n",
    "\n",
    "Marcelo S. Perlin. **Processamento e análise de dados financeiros com R**. Agência Brasileira do ISBN, 2018.\n",
    "\n",
    "Rebeca Salles, Eduardo Ogasawara. **Package 'TSPred': Functions for Benchmarking Time Series Prediction.** Disponível em <https://cran.r-project.org/web/packages/TSPred/TSPred.pdf>. Acesso em Jul. 2021.\n",
    "\n",
    "Rebecca Salles, Luciana Escobar, Lais Baroni, Roccio Zorrilla, Artur Ziviani, Vincius Kreischer,Flavia Delicato, Paulo F. Pires, Luciano Maia, Rafaelli Coutinho, Laura Assis, Eduardo Ogasawara.  **Harbinger: Um framework para integração e análise de métodos de detecção de eventos em séries temporais.**   InAnais do Simpósio Brasileiro de Banco de Dados (SBBD), pag. 73–84. SBC, 2020.\n",
    "\n",
    "Valery Guralnik and Jaideep Srivastava. **Event Detection from Time Series Data**. InProceedings ofthe Fifth ACM SIGKDD International Conference on Knowledge Discovery and Data Mining,KDD ’99, pages 33–42, New York, NY, USA, 1999. ACM. ISBN 978-1-58113-143-7."
   ]
  }
 ],
 "metadata": {
  "kernelspec": {
   "display_name": "R",
   "language": "R",
   "name": "ir"
  },
  "language_info": {
   "codemirror_mode": "r",
   "file_extension": ".r",
   "mimetype": "text/x-r-source",
   "name": "R",
   "pygments_lexer": "r",
   "version": "3.6.1"
  }
 },
 "nbformat": 4,
 "nbformat_minor": 4
}
