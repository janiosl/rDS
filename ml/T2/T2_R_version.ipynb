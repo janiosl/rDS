{
 "cells": [
  {
   "cell_type": "markdown",
   "metadata": {},
   "source": [
    "# CEFET\n",
    "\n",
    "**Programa de Pós-Graduação em Ciência da Computação**\n",
    "\n",
    "**Mestrado em Ciência da Computação**\n",
    "\n",
    "** Trabalho 02**\n",
    "\n",
    "* Disciplina: Aprendizado de Máquina\n",
    "* Professor: Eduardo Bezerra\n",
    "* Aluno: Janio de Souza Lima"
   ]
  },
  {
   "cell_type": "markdown",
   "metadata": {},
   "source": [
    "# 1 Aprendizado Supervisionado Revisitado"
   ]
  },
  {
   "cell_type": "markdown",
   "metadata": {},
   "source": [
    "## 1.1 Aprendizado com Regressores"
   ]
  },
  {
   "cell_type": "markdown",
   "metadata": {},
   "source": [
    "### 1.1.1 Regressão com uma variável"
   ]
  },
  {
   "cell_type": "markdown",
   "metadata": {},
   "source": [
    "**Carga e análise preliminar dos dados**"
   ]
  },
  {
   "cell_type": "code",
   "execution_count": 1,
   "metadata": {},
   "outputs": [],
   "source": [
    "#library('')\n",
    "arquivo <- \"https://raw.githubusercontent.com/MLRG-CEFET-RJ/ml-class/master/ml-t1/data/ex1data1.txt\"\n",
    "dados <- read.table(arquivo,\n",
    "                    header=FALSE,\n",
    "                    sep=','\n",
    "                   )"
   ]
  },
  {
   "cell_type": "code",
   "execution_count": 2,
   "metadata": {},
   "outputs": [],
   "source": [
    "colnames(dados) <- c('Population', 'Profit')"
   ]
  },
  {
   "cell_type": "code",
   "execution_count": 3,
   "metadata": {},
   "outputs": [
    {
     "data": {
      "text/html": [
       "<table>\n",
       "<thead><tr><th scope=col>Population</th><th scope=col>Profit</th></tr></thead>\n",
       "<tbody>\n",
       "\t<tr><td>6.1101 </td><td>17.5920</td></tr>\n",
       "\t<tr><td>5.5277 </td><td> 9.1302</td></tr>\n",
       "\t<tr><td>8.5186 </td><td>13.6620</td></tr>\n",
       "\t<tr><td>7.0032 </td><td>11.8540</td></tr>\n",
       "\t<tr><td>5.8598 </td><td> 6.8233</td></tr>\n",
       "\t<tr><td>8.3829 </td><td>11.8860</td></tr>\n",
       "</tbody>\n",
       "</table>\n"
      ],
      "text/latex": [
       "\\begin{tabular}{r|ll}\n",
       " Population & Profit\\\\\n",
       "\\hline\n",
       "\t 6.1101  & 17.5920\\\\\n",
       "\t 5.5277  &  9.1302\\\\\n",
       "\t 8.5186  & 13.6620\\\\\n",
       "\t 7.0032  & 11.8540\\\\\n",
       "\t 5.8598  &  6.8233\\\\\n",
       "\t 8.3829  & 11.8860\\\\\n",
       "\\end{tabular}\n"
      ],
      "text/markdown": [
       "\n",
       "| Population | Profit |\n",
       "|---|---|\n",
       "| 6.1101  | 17.5920 |\n",
       "| 5.5277  |  9.1302 |\n",
       "| 8.5186  | 13.6620 |\n",
       "| 7.0032  | 11.8540 |\n",
       "| 5.8598  |  6.8233 |\n",
       "| 8.3829  | 11.8860 |\n",
       "\n"
      ],
      "text/plain": [
       "  Population Profit \n",
       "1 6.1101     17.5920\n",
       "2 5.5277      9.1302\n",
       "3 8.5186     13.6620\n",
       "4 7.0032     11.8540\n",
       "5 5.8598      6.8233\n",
       "6 8.3829     11.8860"
      ]
     },
     "metadata": {},
     "output_type": "display_data"
    }
   ],
   "source": [
    "head(dados)"
   ]
  },
  {
   "cell_type": "code",
   "execution_count": 4,
   "metadata": {},
   "outputs": [],
   "source": [
    "X <- dados$Population\n",
    "y <- dados$Profit"
   ]
  },
  {
   "cell_type": "code",
   "execution_count": 5,
   "metadata": {},
   "outputs": [
    {
     "data": {
      "text/plain": [
       "   Population         Profit      \n",
       " Min.   : 5.027   Min.   :-2.681  \n",
       " 1st Qu.: 5.708   1st Qu.: 1.987  \n",
       " Median : 6.589   Median : 4.562  \n",
       " Mean   : 8.160   Mean   : 5.839  \n",
       " 3rd Qu.: 8.578   3rd Qu.: 7.047  \n",
       " Max.   :22.203   Max.   :24.147  "
      ]
     },
     "metadata": {},
     "output_type": "display_data"
    }
   ],
   "source": [
    "summary(dados)"
   ]
  },
  {
   "cell_type": "code",
   "execution_count": 22,
   "metadata": {},
   "outputs": [
    {
     "data": {
      "image/png": "[encoded data removed]",
      "text/plain": [
       "Plot with title \"População da cidade x Lucro da filial\""
      ]
     },
     "metadata": {},
     "output_type": "display_data"
    }
   ],
   "source": [
    "plot(dados$Population,\n",
    "    dados$Profit,\n",
    "    ylab=\"Lucro ($ 10k)\",\n",
    "    xlab=\"População (10k)\",\n",
    "    main=\"População da cidade x Lucro da filial\",\n",
    "    pch=8,\n",
    "    col=\"red\")"
   ]
  },
  {
   "cell_type": "code",
   "execution_count": 7,
   "metadata": {},
   "outputs": [
    {
     "name": "stderr",
     "output_type": "stream",
     "text": [
      "Warning message:\n",
      "\"package 'caret' was built under R version 3.6.3\"Loading required package: lattice\n",
      "Loading required package: ggplot2\n",
      "Warning message:\n",
      "\"package 'ggplot2' was built under R version 3.6.3\""
     ]
    }
   ],
   "source": [
    "library(caret)"
   ]
  },
  {
   "cell_type": "code",
   "execution_count": 8,
   "metadata": {},
   "outputs": [],
   "source": [
    "set.seed(42) #randomization\n",
    "\n",
    "#creating indices\n",
    "trainIndex <- createDataPartition(dados$Population,\n",
    "                                  p=0.8,\n",
    "                                  list=FALSE)"
   ]
  },
  {
   "cell_type": "code",
   "execution_count": 9,
   "metadata": {},
   "outputs": [],
   "source": [
    "X.train <- X[trainIndex]\n",
    "X.test <- X[-trainIndex]"
   ]
  },
  {
   "cell_type": "code",
   "execution_count": 10,
   "metadata": {},
   "outputs": [],
   "source": [
    "y.train <- X[trainIndex]\n",
    "y.test <- X[-trainIndex]"
   ]
  },
  {
   "cell_type": "code",
   "execution_count": 11,
   "metadata": {},
   "outputs": [],
   "source": [
    "#splitting data into training/testing data using the trainIndex object\n",
    "DADOS_TRAIN <- dados[trainIndex,] #training data (80% of data)\n",
    "DADOS_TEST <- dados[-trainIndex,] #testing data (20% of data)"
   ]
  },
  {
   "cell_type": "code",
   "execution_count": 12,
   "metadata": {},
   "outputs": [
    {
     "data": {
      "text/html": [
       "<table>\n",
       "<thead><tr><th></th><th scope=col>Population</th><th scope=col>Profit</th></tr></thead>\n",
       "<tbody>\n",
       "\t<tr><th scope=row>1</th><td>6.1101 </td><td>17.5920</td></tr>\n",
       "\t<tr><th scope=row>2</th><td>5.5277 </td><td> 9.1302</td></tr>\n",
       "\t<tr><th scope=row>4</th><td>7.0032 </td><td>11.8540</td></tr>\n",
       "\t<tr><th scope=row>5</th><td>5.8598 </td><td> 6.8233</td></tr>\n",
       "\t<tr><th scope=row>6</th><td>8.3829 </td><td>11.8860</td></tr>\n",
       "\t<tr><th scope=row>7</th><td>7.4764 </td><td> 4.3483</td></tr>\n",
       "</tbody>\n",
       "</table>\n"
      ],
      "text/latex": [
       "\\begin{tabular}{r|ll}\n",
       "  & Population & Profit\\\\\n",
       "\\hline\n",
       "\t1 & 6.1101  & 17.5920\\\\\n",
       "\t2 & 5.5277  &  9.1302\\\\\n",
       "\t4 & 7.0032  & 11.8540\\\\\n",
       "\t5 & 5.8598  &  6.8233\\\\\n",
       "\t6 & 8.3829  & 11.8860\\\\\n",
       "\t7 & 7.4764  &  4.3483\\\\\n",
       "\\end{tabular}\n"
      ],
      "text/markdown": [
       "\n",
       "| <!--/--> | Population | Profit |\n",
       "|---|---|---|\n",
       "| 1 | 6.1101  | 17.5920 |\n",
       "| 2 | 5.5277  |  9.1302 |\n",
       "| 4 | 7.0032  | 11.8540 |\n",
       "| 5 | 5.8598  |  6.8233 |\n",
       "| 6 | 8.3829  | 11.8860 |\n",
       "| 7 | 7.4764  |  4.3483 |\n",
       "\n"
      ],
      "text/plain": [
       "  Population Profit \n",
       "1 6.1101     17.5920\n",
       "2 5.5277      9.1302\n",
       "4 7.0032     11.8540\n",
       "5 5.8598      6.8233\n",
       "6 8.3829     11.8860\n",
       "7 7.4764      4.3483"
      ]
     },
     "metadata": {},
     "output_type": "display_data"
    }
   ],
   "source": [
    "head(DADOS_TRAIN)"
   ]
  },
  {
   "cell_type": "code",
   "execution_count": 13,
   "metadata": {},
   "outputs": [
    {
     "data": {
      "text/html": [
       "<table>\n",
       "<thead><tr><th></th><th scope=col>Population</th><th scope=col>Profit</th></tr></thead>\n",
       "<tbody>\n",
       "\t<tr><th scope=row>3</th><td>8.5186 </td><td>13.6620</td></tr>\n",
       "\t<tr><th scope=row>19</th><td>6.4296 </td><td> 3.6518</td></tr>\n",
       "\t<tr><th scope=row>23</th><td>5.4901 </td><td> 4.2630</td></tr>\n",
       "\t<tr><th scope=row>31</th><td>5.2524 </td><td>-1.2200</td></tr>\n",
       "\t<tr><th scope=row>35</th><td>8.2111 </td><td> 6.5426</td></tr>\n",
       "\t<tr><th scope=row>46</th><td>7.0931 </td><td> 1.0463</td></tr>\n",
       "</tbody>\n",
       "</table>\n"
      ],
      "text/latex": [
       "\\begin{tabular}{r|ll}\n",
       "  & Population & Profit\\\\\n",
       "\\hline\n",
       "\t3 & 8.5186  & 13.6620\\\\\n",
       "\t19 & 6.4296  &  3.6518\\\\\n",
       "\t23 & 5.4901  &  4.2630\\\\\n",
       "\t31 & 5.2524  & -1.2200\\\\\n",
       "\t35 & 8.2111  &  6.5426\\\\\n",
       "\t46 & 7.0931  &  1.0463\\\\\n",
       "\\end{tabular}\n"
      ],
      "text/markdown": [
       "\n",
       "| <!--/--> | Population | Profit |\n",
       "|---|---|---|\n",
       "| 3 | 8.5186  | 13.6620 |\n",
       "| 19 | 6.4296  |  3.6518 |\n",
       "| 23 | 5.4901  |  4.2630 |\n",
       "| 31 | 5.2524  | -1.2200 |\n",
       "| 35 | 8.2111  |  6.5426 |\n",
       "| 46 | 7.0931  |  1.0463 |\n",
       "\n"
      ],
      "text/plain": [
       "   Population Profit \n",
       "3  8.5186     13.6620\n",
       "19 6.4296      3.6518\n",
       "23 5.4901      4.2630\n",
       "31 5.2524     -1.2200\n",
       "35 8.2111      6.5426\n",
       "46 7.0931      1.0463"
      ]
     },
     "metadata": {},
     "output_type": "display_data"
    }
   ],
   "source": [
    "head(DADOS_TEST)"
   ]
  },
  {
   "cell_type": "markdown",
   "metadata": {},
   "source": [
    "#### Regressão Linear Simples"
   ]
  },
  {
   "cell_type": "code",
   "execution_count": 14,
   "metadata": {},
   "outputs": [
    {
     "data": {
      "text/plain": [
       "\n",
       "Call:\n",
       "lm(formula = Profit ~ Population, data = DADOS_TRAIN)\n",
       "\n",
       "Coefficients:\n",
       "(Intercept)   Population  \n",
       "     -4.216        1.238  \n"
      ]
     },
     "metadata": {},
     "output_type": "display_data"
    }
   ],
   "source": [
    "regLin <- lm(Profit ~ Population, data=DADOS_TRAIN)\n",
    "regLin"
   ]
  },
  {
   "cell_type": "code",
   "execution_count": 15,
   "metadata": {},
   "outputs": [
    {
     "data": {
      "image/png": "[encoded data removed]",
      "text/plain": [
       "Plot with title \"Regressão Linear Simples - Dados Teste\""
      ]
     },
     "metadata": {},
     "output_type": "display_data"
    }
   ],
   "source": [
    "plot(Profit ~ Population, data=DADOS_TEST,\n",
    "     col=\"red\", main=\"Regressão Linear Simples - Dados Teste\",\n",
    "    pch=8)\n",
    "\n",
    "abline(regLin, col=\"blue\")"
   ]
  },
  {
   "cell_type": "code",
   "execution_count": 78,
   "metadata": {},
   "outputs": [
    {
     "data": {
      "image/png": "[encoded data removed]",
      "text/plain": [
       "Plot with title \"Regressão Linear Simples - Conjunto Completo\""
      ]
     },
     "metadata": {},
     "output_type": "display_data"
    }
   ],
   "source": [
    "plot(Profit ~ Population, data=dados,\n",
    "     col=\"red\", main=\"Regressão Linear Simples - Conjunto Completo\",\n",
    "    pch=8)\n",
    "\n",
    "abline(regLin, col=\"royalblue\")"
   ]
  },
  {
   "cell_type": "markdown",
   "metadata": {},
   "source": [
    "#### Aplicação do algoritmo k_NN"
   ]
  },
  {
   "cell_type": "code",
   "execution_count": 23,
   "metadata": {},
   "outputs": [
    {
     "name": "stderr",
     "output_type": "stream",
     "text": [
      "Warning message:\n",
      "\"package 'FNN' was built under R version 3.6.3\""
     ]
    }
   ],
   "source": [
    "library(FNN)"
   ]
  },
  {
   "cell_type": "code",
   "execution_count": 28,
   "metadata": {
    "scrolled": true
   },
   "outputs": [
    {
     "data": {
      "text/plain": [
       "PRESS =  1235.674 \n",
       "R2-Predict =  0.4588539 "
      ]
     },
     "metadata": {},
     "output_type": "display_data"
    }
   ],
   "source": [
    "knnReg = knn.reg(train = as.data.frame(DADOS_TRAIN$Population),\n",
    "                 test = NULL,\n",
    "                 y = DADOS_TRAIN$Profit, k = 15)\n",
    "\n",
    "knnReg"
   ]
  },
  {
   "cell_type": "code",
   "execution_count": 31,
   "metadata": {},
   "outputs": [],
   "source": [
    "y_pred = knn.reg(train = as.data.frame(DADOS_TRAIN$Population),\n",
    "                 test = as.data.frame(DADOS_TEST$Population),\n",
    "                 y = DADOS_TRAIN$Profit, k = 15)"
   ]
  },
  {
   "cell_type": "code",
   "execution_count": 32,
   "metadata": {},
   "outputs": [
    {
     "data": {
      "text/plain": [
       "Prediction:\n",
       " [1]  6.267363  4.573379  2.173249  1.899561  5.575816  4.897199  1.899561\n",
       " [8]  4.718489  4.767499  2.597717 12.732267 11.483407 12.732267  7.422613\n",
       "[15]  4.160643  1.899561  4.160643"
      ]
     },
     "metadata": {},
     "output_type": "display_data"
    }
   ],
   "source": [
    "y_pred"
   ]
  },
  {
   "cell_type": "code",
   "execution_count": 33,
   "metadata": {},
   "outputs": [],
   "source": [
    "#Função para cálculo do RMSE\n",
    "rmse = function(actual, predicted) {\n",
    "  sqrt(mean((actual - predicted) ^ 2))\n",
    "}"
   ]
  },
  {
   "cell_type": "code",
   "execution_count": 35,
   "metadata": {},
   "outputs": [
    {
     "data": {
      "text/html": [
       "3.63119955732847"
      ],
      "text/latex": [
       "3.63119955732847"
      ],
      "text/markdown": [
       "3.63119955732847"
      ],
      "text/plain": [
       "[1] 3.6312"
      ]
     },
     "metadata": {},
     "output_type": "display_data"
    }
   ],
   "source": [
    "#AValiação do modelo\n",
    "rmse(DADOS_TEST$Profit, y_pred$pred)"
   ]
  },
  {
   "cell_type": "code",
   "execution_count": 77,
   "metadata": {},
   "outputs": [
    {
     "data": {
      "image/png": "[encoded data removed]",
      "text/plain": [
       "Plot with title \"Regressor k-NN\""
      ]
     },
     "metadata": {},
     "output_type": "display_data"
    }
   ],
   "source": [
    "plot(DADOS_TEST$Population, DADOS_TEST$Profit, col=\"red\", main=\"Regressor k-NN\",\n",
    "    xlab=\"População\", ylab=\"Lucro\", pch=8)\n",
    "\n",
    "points(DADOS_TEST$Population, y_pred$pred, col=\"royalblue\", pch=19)\n",
    "\n",
    "box(bty = \"l\")\n",
    "\n",
    "axis(side = 1)\n",
    "\n",
    "axis(side = 2, \n",
    "     las = 1)\n",
    "\n",
    "legend(x = \"topleft\",\n",
    "       legend = \"Predições kNN\", \n",
    "       #lty = 1,\n",
    "       #lwd = 3,\n",
    "       bty = \"n\",\n",
    "       col=\"royalblue\", pch=19)"
   ]
  },
  {
   "cell_type": "code",
   "execution_count": 79,
   "metadata": {},
   "outputs": [
    {
     "data": {
      "text/plain": [
       "PRESS =  1235.674 \n",
       "R2-Predict =  0.4588539 "
      ]
     },
     "metadata": {},
     "output_type": "display_data"
    }
   ],
   "source": [
    "knnReg"
   ]
  },
  {
   "cell_type": "markdown",
   "metadata": {},
   "source": [
    "#### Aplicação do algoritmo Decision Tree"
   ]
  },
  {
   "cell_type": "code",
   "execution_count": null,
   "metadata": {},
   "outputs": [],
   "source": []
  }
 ],
 "metadata": {
  "kernelspec": {
   "display_name": "R",
   "language": "R",
   "name": "ir"
  },
  "language_info": {
   "codemirror_mode": "r",
   "file_extension": ".r",
   "mimetype": "text/x-r-source",
   "name": "R",
   "pygments_lexer": "r",
   "version": "3.6.1"
  }
 },
 "nbformat": 4,
 "nbformat_minor": 4
}
