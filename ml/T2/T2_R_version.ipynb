{
 "cells": [
  {
   "cell_type": "markdown",
   "metadata": {},
   "source": [
    "# CEFET\n",
    "\n",
    "**Programa de Pós-Graduação em Ciência da Computação**\n",
    "\n",
    "**Mestrado em Ciência da Computação**\n",
    "\n",
    "** Adaptação dos Trabalhos 01 e 02 para Linguagem r**\n",
    "\n",
    "* Disciplina: Aprendizado de Máquina\n",
    "* Professor: Eduardo Bezerra\n",
    "* Aluno: Janio de Souza Lima"
   ]
  },
  {
   "cell_type": "markdown",
   "metadata": {},
   "source": [
    "# 1 Aprendizado Supervisionado Revisitado"
   ]
  },
  {
   "cell_type": "markdown",
   "metadata": {},
   "source": [
    "## 1.1 Aprendizado com Regressores"
   ]
  },
  {
   "cell_type": "markdown",
   "metadata": {},
   "source": [
    "### 1.1.1 Regressão com uma variável"
   ]
  },
  {
   "cell_type": "markdown",
   "metadata": {},
   "source": [
    "**Carga e análise preliminar dos dados**"
   ]
  },
  {
   "cell_type": "code",
   "execution_count": 1,
   "metadata": {},
   "outputs": [],
   "source": [
    "#library('')\n",
    "arquivo <- \"https://raw.githubusercontent.com/MLRG-CEFET-RJ/ml-class/master/ml-t1/data/ex1data1.txt\"\n",
    "dados <- read.table(arquivo,\n",
    "                    header=FALSE,\n",
    "                    sep=','\n",
    "                   )"
   ]
  },
  {
   "cell_type": "code",
   "execution_count": 2,
   "metadata": {},
   "outputs": [],
   "source": [
    "colnames(dados) <- c('Population', 'Profit')"
   ]
  },
  {
   "cell_type": "code",
   "execution_count": 3,
   "metadata": {},
   "outputs": [
    {
     "data": {
      "text/html": [
       "<table>\n",
       "<thead><tr><th scope=col>Population</th><th scope=col>Profit</th></tr></thead>\n",
       "<tbody>\n",
       "\t<tr><td>6.1101 </td><td>17.5920</td></tr>\n",
       "\t<tr><td>5.5277 </td><td> 9.1302</td></tr>\n",
       "\t<tr><td>8.5186 </td><td>13.6620</td></tr>\n",
       "\t<tr><td>7.0032 </td><td>11.8540</td></tr>\n",
       "\t<tr><td>5.8598 </td><td> 6.8233</td></tr>\n",
       "\t<tr><td>8.3829 </td><td>11.8860</td></tr>\n",
       "</tbody>\n",
       "</table>\n"
      ],
      "text/latex": [
       "\\begin{tabular}{r|ll}\n",
       " Population & Profit\\\\\n",
       "\\hline\n",
       "\t 6.1101  & 17.5920\\\\\n",
       "\t 5.5277  &  9.1302\\\\\n",
       "\t 8.5186  & 13.6620\\\\\n",
       "\t 7.0032  & 11.8540\\\\\n",
       "\t 5.8598  &  6.8233\\\\\n",
       "\t 8.3829  & 11.8860\\\\\n",
       "\\end{tabular}\n"
      ],
      "text/markdown": [
       "\n",
       "| Population | Profit |\n",
       "|---|---|\n",
       "| 6.1101  | 17.5920 |\n",
       "| 5.5277  |  9.1302 |\n",
       "| 8.5186  | 13.6620 |\n",
       "| 7.0032  | 11.8540 |\n",
       "| 5.8598  |  6.8233 |\n",
       "| 8.3829  | 11.8860 |\n",
       "\n"
      ],
      "text/plain": [
       "  Population Profit \n",
       "1 6.1101     17.5920\n",
       "2 5.5277      9.1302\n",
       "3 8.5186     13.6620\n",
       "4 7.0032     11.8540\n",
       "5 5.8598      6.8233\n",
       "6 8.3829     11.8860"
      ]
     },
     "metadata": {},
     "output_type": "display_data"
    }
   ],
   "source": [
    "head(dados)"
   ]
  },
  {
   "cell_type": "code",
   "execution_count": 4,
   "metadata": {},
   "outputs": [],
   "source": [
    "X <- dados$Population\n",
    "y <- dados$Profit"
   ]
  },
  {
   "cell_type": "code",
   "execution_count": 5,
   "metadata": {},
   "outputs": [
    {
     "data": {
      "text/plain": [
       "   Population         Profit      \n",
       " Min.   : 5.027   Min.   :-2.681  \n",
       " 1st Qu.: 5.708   1st Qu.: 1.987  \n",
       " Median : 6.589   Median : 4.562  \n",
       " Mean   : 8.160   Mean   : 5.839  \n",
       " 3rd Qu.: 8.578   3rd Qu.: 7.047  \n",
       " Max.   :22.203   Max.   :24.147  "
      ]
     },
     "metadata": {},
     "output_type": "display_data"
    }
   ],
   "source": [
    "summary(dados)"
   ]
  },
  {
   "cell_type": "code",
   "execution_count": 6,
   "metadata": {},
   "outputs": [
    {
     "data": {
      "image/png": "[encoded data removed]",
      "text/plain": [
       "Plot with title \"População da cidade x Lucro da filial\""
      ]
     },
     "metadata": {},
     "output_type": "display_data"
    }
   ],
   "source": [
    "#Ativar para gravar gráfico em arquivo\n",
    "#pdf(\"target/plot1.1.1.1.pdf\", width = 6, height = 6)\n",
    "\n",
    "\n",
    "plot(dados$Population,\n",
    "    dados$Profit,\n",
    "    ylab=\"Lucro ($ 10k)\",\n",
    "    xlab=\"População (10k)\",\n",
    "    main=\"População da cidade x Lucro da filial\",\n",
    "    pch=8,\n",
    "    col=\"red\")\n",
    "\n",
    "#Ativar para gravar gráfico em arquivo\n",
    "#dev.off()"
   ]
  },
  {
   "cell_type": "code",
   "execution_count": 7,
   "metadata": {},
   "outputs": [
    {
     "name": "stderr",
     "output_type": "stream",
     "text": [
      "Warning message:\n",
      "\"package 'caret' was built under R version 3.6.3\"Loading required package: lattice\n",
      "Loading required package: ggplot2\n",
      "Warning message:\n",
      "\"package 'ggplot2' was built under R version 3.6.3\""
     ]
    }
   ],
   "source": [
    "library(caret)"
   ]
  },
  {
   "cell_type": "code",
   "execution_count": 8,
   "metadata": {},
   "outputs": [],
   "source": [
    "set.seed(42) #randomization\n",
    "\n",
    "#creating indices\n",
    "trainIndex <- createDataPartition(dados$Population,\n",
    "                                  p=0.8,\n",
    "                                  list=FALSE)"
   ]
  },
  {
   "cell_type": "code",
   "execution_count": 9,
   "metadata": {},
   "outputs": [],
   "source": [
    "X.train <- X[trainIndex]\n",
    "X.test <- X[-trainIndex]"
   ]
  },
  {
   "cell_type": "code",
   "execution_count": 10,
   "metadata": {},
   "outputs": [],
   "source": [
    "y.train <- X[trainIndex]\n",
    "y.test <- X[-trainIndex]"
   ]
  },
  {
   "cell_type": "code",
   "execution_count": 11,
   "metadata": {},
   "outputs": [],
   "source": [
    "#splitting data into training/testing data using the trainIndex object\n",
    "DADOS_TRAIN <- dados[trainIndex,] #training data (80% of data)\n",
    "DADOS_TEST <- dados[-trainIndex,] #testing data (20% of data)"
   ]
  },
  {
   "cell_type": "code",
   "execution_count": 12,
   "metadata": {},
   "outputs": [
    {
     "data": {
      "text/html": [
       "<table>\n",
       "<thead><tr><th></th><th scope=col>Population</th><th scope=col>Profit</th></tr></thead>\n",
       "<tbody>\n",
       "\t<tr><th scope=row>1</th><td>6.1101 </td><td>17.5920</td></tr>\n",
       "\t<tr><th scope=row>2</th><td>5.5277 </td><td> 9.1302</td></tr>\n",
       "\t<tr><th scope=row>4</th><td>7.0032 </td><td>11.8540</td></tr>\n",
       "\t<tr><th scope=row>5</th><td>5.8598 </td><td> 6.8233</td></tr>\n",
       "\t<tr><th scope=row>6</th><td>8.3829 </td><td>11.8860</td></tr>\n",
       "\t<tr><th scope=row>7</th><td>7.4764 </td><td> 4.3483</td></tr>\n",
       "</tbody>\n",
       "</table>\n"
      ],
      "text/latex": [
       "\\begin{tabular}{r|ll}\n",
       "  & Population & Profit\\\\\n",
       "\\hline\n",
       "\t1 & 6.1101  & 17.5920\\\\\n",
       "\t2 & 5.5277  &  9.1302\\\\\n",
       "\t4 & 7.0032  & 11.8540\\\\\n",
       "\t5 & 5.8598  &  6.8233\\\\\n",
       "\t6 & 8.3829  & 11.8860\\\\\n",
       "\t7 & 7.4764  &  4.3483\\\\\n",
       "\\end{tabular}\n"
      ],
      "text/markdown": [
       "\n",
       "| <!--/--> | Population | Profit |\n",
       "|---|---|---|\n",
       "| 1 | 6.1101  | 17.5920 |\n",
       "| 2 | 5.5277  |  9.1302 |\n",
       "| 4 | 7.0032  | 11.8540 |\n",
       "| 5 | 5.8598  |  6.8233 |\n",
       "| 6 | 8.3829  | 11.8860 |\n",
       "| 7 | 7.4764  |  4.3483 |\n",
       "\n"
      ],
      "text/plain": [
       "  Population Profit \n",
       "1 6.1101     17.5920\n",
       "2 5.5277      9.1302\n",
       "4 7.0032     11.8540\n",
       "5 5.8598      6.8233\n",
       "6 8.3829     11.8860\n",
       "7 7.4764      4.3483"
      ]
     },
     "metadata": {},
     "output_type": "display_data"
    }
   ],
   "source": [
    "head(DADOS_TRAIN)"
   ]
  },
  {
   "cell_type": "code",
   "execution_count": 13,
   "metadata": {},
   "outputs": [
    {
     "data": {
      "text/html": [
       "<table>\n",
       "<thead><tr><th></th><th scope=col>Population</th><th scope=col>Profit</th></tr></thead>\n",
       "<tbody>\n",
       "\t<tr><th scope=row>3</th><td>8.5186 </td><td>13.6620</td></tr>\n",
       "\t<tr><th scope=row>19</th><td>6.4296 </td><td> 3.6518</td></tr>\n",
       "\t<tr><th scope=row>23</th><td>5.4901 </td><td> 4.2630</td></tr>\n",
       "\t<tr><th scope=row>31</th><td>5.2524 </td><td>-1.2200</td></tr>\n",
       "\t<tr><th scope=row>35</th><td>8.2111 </td><td> 6.5426</td></tr>\n",
       "\t<tr><th scope=row>46</th><td>7.0931 </td><td> 1.0463</td></tr>\n",
       "</tbody>\n",
       "</table>\n"
      ],
      "text/latex": [
       "\\begin{tabular}{r|ll}\n",
       "  & Population & Profit\\\\\n",
       "\\hline\n",
       "\t3 & 8.5186  & 13.6620\\\\\n",
       "\t19 & 6.4296  &  3.6518\\\\\n",
       "\t23 & 5.4901  &  4.2630\\\\\n",
       "\t31 & 5.2524  & -1.2200\\\\\n",
       "\t35 & 8.2111  &  6.5426\\\\\n",
       "\t46 & 7.0931  &  1.0463\\\\\n",
       "\\end{tabular}\n"
      ],
      "text/markdown": [
       "\n",
       "| <!--/--> | Population | Profit |\n",
       "|---|---|---|\n",
       "| 3 | 8.5186  | 13.6620 |\n",
       "| 19 | 6.4296  |  3.6518 |\n",
       "| 23 | 5.4901  |  4.2630 |\n",
       "| 31 | 5.2524  | -1.2200 |\n",
       "| 35 | 8.2111  |  6.5426 |\n",
       "| 46 | 7.0931  |  1.0463 |\n",
       "\n"
      ],
      "text/plain": [
       "   Population Profit \n",
       "3  8.5186     13.6620\n",
       "19 6.4296      3.6518\n",
       "23 5.4901      4.2630\n",
       "31 5.2524     -1.2200\n",
       "35 8.2111      6.5426\n",
       "46 7.0931      1.0463"
      ]
     },
     "metadata": {},
     "output_type": "display_data"
    }
   ],
   "source": [
    "head(DADOS_TEST)"
   ]
  },
  {
   "cell_type": "markdown",
   "metadata": {},
   "source": [
    "#### Regressão Linear Simples"
   ]
  },
  {
   "cell_type": "code",
   "execution_count": 14,
   "metadata": {},
   "outputs": [
    {
     "data": {
      "text/plain": [
       "\n",
       "Call:\n",
       "lm(formula = Profit ~ Population, data = DADOS_TRAIN)\n",
       "\n",
       "Coefficients:\n",
       "(Intercept)   Population  \n",
       "     -4.216        1.238  \n"
      ]
     },
     "metadata": {},
     "output_type": "display_data"
    }
   ],
   "source": [
    "regLin <- lm(Profit ~ Population, data=DADOS_TRAIN)\n",
    "regLin"
   ]
  },
  {
   "cell_type": "code",
   "execution_count": 15,
   "metadata": {},
   "outputs": [
    {
     "data": {
      "text/html": [
       "<dl class=dl-horizontal>\n",
       "\t<dt>3</dt>\n",
       "\t\t<dd>6.32740652196937</dd>\n",
       "\t<dt>19</dt>\n",
       "\t\t<dd>3.74190595303292</dd>\n",
       "\t<dt>23</dt>\n",
       "\t\t<dd>2.57911141760172</dd>\n",
       "\t<dt>31</dt>\n",
       "\t\t<dd>2.28491635525792</dd>\n",
       "\t<dt>35</dt>\n",
       "\t\t<dd>5.94682182836097</dd>\n",
       "\t<dt>46</dt>\n",
       "\t\t<dd>4.56310251956683</dd>\n",
       "\t<dt>47</dt>\n",
       "\t\t<dd>2.05941218883369</dd>\n",
       "\t<dt>51</dt>\n",
       "\t\t<dd>5.11646647570445</dd>\n",
       "\t<dt>57</dt>\n",
       "\t\t<dd>3.54957144445814</dd>\n",
       "\t<dt>58</dt>\n",
       "\t\t<dd>2.76426741813446</dd>\n",
       "\t<dt>63</dt>\n",
       "\t\t<dd>22.1206192839879</dd>\n",
       "\t<dt>64</dt>\n",
       "\t\t<dd>14.2353995019419</dd>\n",
       "\t<dt>70</dt>\n",
       "\t\t<dd>20.9596812592572</dd>\n",
       "\t<dt>71</dt>\n",
       "\t\t<dd>8.32922012665957</dd>\n",
       "\t<dt>73</dt>\n",
       "\t\t<dd>3.21787486596366</dd>\n",
       "\t<dt>80</dt>\n",
       "\t\t<dd>2.10582495634691</dd>\n",
       "\t<dt>88</dt>\n",
       "\t\t<dd>3.21267663600218</dd>\n",
       "</dl>\n"
      ],
      "text/latex": [
       "\\begin{description*}\n",
       "\\item[3] 6.32740652196937\n",
       "\\item[19] 3.74190595303292\n",
       "\\item[23] 2.57911141760172\n",
       "\\item[31] 2.28491635525792\n",
       "\\item[35] 5.94682182836097\n",
       "\\item[46] 4.56310251956683\n",
       "\\item[47] 2.05941218883369\n",
       "\\item[51] 5.11646647570445\n",
       "\\item[57] 3.54957144445814\n",
       "\\item[58] 2.76426741813446\n",
       "\\item[63] 22.1206192839879\n",
       "\\item[64] 14.2353995019419\n",
       "\\item[70] 20.9596812592572\n",
       "\\item[71] 8.32922012665957\n",
       "\\item[73] 3.21787486596366\n",
       "\\item[80] 2.10582495634691\n",
       "\\item[88] 3.21267663600218\n",
       "\\end{description*}\n"
      ],
      "text/markdown": [
       "3\n",
       ":   6.3274065219693719\n",
       ":   3.7419059530329223\n",
       ":   2.5791114176017231\n",
       ":   2.2849163552579235\n",
       ":   5.9468218283609746\n",
       ":   4.5631025195668347\n",
       ":   2.0594121888336951\n",
       ":   5.1164664757044557\n",
       ":   3.5495714444581458\n",
       ":   2.7642674181344663\n",
       ":   22.120619283987964\n",
       ":   14.235399501941970\n",
       ":   20.959681259257271\n",
       ":   8.3292201266595773\n",
       ":   3.2178748659636680\n",
       ":   2.1058249563469188\n",
       ":   3.21267663600218\n",
       "\n"
      ],
      "text/plain": [
       "        3        19        23        31        35        46        47        51 \n",
       " 6.327407  3.741906  2.579111  2.284916  5.946822  4.563103  2.059412  5.116466 \n",
       "       57        58        63        64        70        71        73        80 \n",
       " 3.549571  2.764267 22.120619 14.235400 20.959681  8.329220  3.217875  2.105825 \n",
       "       88 \n",
       " 3.212677 "
      ]
     },
     "metadata": {},
     "output_type": "display_data"
    }
   ],
   "source": [
    "y_pred = predict(regLin, DADOS_TEST)\n",
    "y_pred"
   ]
  },
  {
   "cell_type": "code",
   "execution_count": 16,
   "metadata": {},
   "outputs": [
    {
     "data": {
      "image/png": "[encoded data removed]",
      "text/plain": [
       "Plot with title \"Regressão Linear Simples - Dados Teste\""
      ]
     },
     "metadata": {},
     "output_type": "display_data"
    }
   ],
   "source": [
    "#Ativar para gravar gráfico em arquivo\n",
    "#pdf(\"target/plot1.1.1.2.pdf\", width = 6, height = 6)\n",
    "\n",
    "plot(Profit ~ Population, data=DADOS_TEST,\n",
    "     col=\"red\", main=\"Regressão Linear Simples - Dados Teste\",\n",
    "     pch=8, xaxt=\"n\", yaxt=\"n\")\n",
    "\n",
    "points(DADOS_TEST$Population, y_pred, col=\"royalblue\", pch=19)\n",
    "\n",
    "legend(x = \"topleft\",\n",
    "       legend = \"Predições Regressão Linear\", \n",
    "       #lty = 1,\n",
    "       #lwd = 3,\n",
    "       bty = \"n\",\n",
    "       col=\"royalblue\", pch=19)\n",
    "\n",
    "#Ativar para gravar gráfico em arquivo\n",
    "#dev.off()"
   ]
  },
  {
   "cell_type": "code",
   "execution_count": 17,
   "metadata": {},
   "outputs": [
    {
     "data": {
      "image/png": "[encoded data removed]",
      "text/plain": [
       "Plot with title \"Regressão Linear Simples - Conjunto Completo\""
      ]
     },
     "metadata": {},
     "output_type": "display_data"
    }
   ],
   "source": [
    "#Ativar para gravar gráfico em arquivo\n",
    "#pdf(\"target/plot1.1.1.3.pdf\", width = 6, height = 6)\n",
    "\n",
    "plot(Profit ~ Population, data=dados,\n",
    "     col=\"red\", main=\"Regressão Linear Simples - Conjunto Completo\",\n",
    "    pch=8)\n",
    "\n",
    "abline(regLin, col=\"royalblue\")\n",
    "\n",
    "#dev.off()"
   ]
  },
  {
   "cell_type": "code",
   "execution_count": 18,
   "metadata": {},
   "outputs": [],
   "source": [
    "#Função para cálculo do RMSE\n",
    "rmse = function(actual, predicted) {\n",
    "  sqrt(mean((actual - predicted) ^ 2))\n",
    "}"
   ]
  },
  {
   "cell_type": "code",
   "execution_count": 19,
   "metadata": {},
   "outputs": [
    {
     "data": {
      "text/html": [
       "2.79015933027355"
      ],
      "text/latex": [
       "2.79015933027355"
      ],
      "text/markdown": [
       "2.79015933027355"
      ],
      "text/plain": [
       "[1] 2.790159"
      ]
     },
     "metadata": {},
     "output_type": "display_data"
    }
   ],
   "source": [
    "#Avaliação do modelo\n",
    "rmse(DADOS_TEST$Profit, y_pred)"
   ]
  },
  {
   "cell_type": "markdown",
   "metadata": {},
   "source": [
    "#### Aplicação do algoritmo k_NN"
   ]
  },
  {
   "cell_type": "code",
   "execution_count": 20,
   "metadata": {},
   "outputs": [
    {
     "name": "stderr",
     "output_type": "stream",
     "text": [
      "Warning message:\n",
      "\"package 'FNN' was built under R version 3.6.3\""
     ]
    }
   ],
   "source": [
    "library(FNN)"
   ]
  },
  {
   "cell_type": "code",
   "execution_count": 21,
   "metadata": {
    "scrolled": true
   },
   "outputs": [
    {
     "data": {
      "text/plain": [
       "PRESS =  1235.674 \n",
       "R2-Predict =  0.4588539 "
      ]
     },
     "metadata": {},
     "output_type": "display_data"
    }
   ],
   "source": [
    "knnReg = knn.reg(train = as.data.frame(DADOS_TRAIN$Population),\n",
    "                 test = NULL,\n",
    "                 y = DADOS_TRAIN$Profit, k = 15)\n",
    "\n",
    "knnReg"
   ]
  },
  {
   "cell_type": "code",
   "execution_count": 22,
   "metadata": {},
   "outputs": [],
   "source": [
    "y_pred = knn.reg(train = as.data.frame(DADOS_TRAIN$Population),\n",
    "                 test = as.data.frame(DADOS_TEST$Population),\n",
    "                 y = DADOS_TRAIN$Profit, k = 15)"
   ]
  },
  {
   "cell_type": "code",
   "execution_count": 23,
   "metadata": {},
   "outputs": [
    {
     "data": {
      "text/plain": [
       "Prediction:\n",
       " [1]  6.267363  4.573379  2.173249  1.899561  5.575816  4.897199  1.899561\n",
       " [8]  4.718489  4.767499  2.597717 12.732267 11.483407 12.732267  7.422613\n",
       "[15]  4.160643  1.899561  4.160643"
      ]
     },
     "metadata": {},
     "output_type": "display_data"
    }
   ],
   "source": [
    "y_pred"
   ]
  },
  {
   "cell_type": "code",
   "execution_count": 24,
   "metadata": {},
   "outputs": [
    {
     "data": {
      "text/html": [
       "3.63119955732847"
      ],
      "text/latex": [
       "3.63119955732847"
      ],
      "text/markdown": [
       "3.63119955732847"
      ],
      "text/plain": [
       "[1] 3.6312"
      ]
     },
     "metadata": {},
     "output_type": "display_data"
    }
   ],
   "source": [
    "#Avaliação do modelo\n",
    "rmse(DADOS_TEST$Profit, y_pred$pred)"
   ]
  },
  {
   "cell_type": "code",
   "execution_count": 25,
   "metadata": {},
   "outputs": [
    {
     "data": {
      "image/png": "[encoded data removed]",
      "text/plain": [
       "Plot with title \"Regressor k-NN\""
      ]
     },
     "metadata": {},
     "output_type": "display_data"
    }
   ],
   "source": [
    "#Ativar para gravar gráfico em arquivo\n",
    "#pdf(\"target/plot1.1.1.4.pdf\", width = 6, height = 6)\n",
    "\n",
    "plot(DADOS_TEST$Population, DADOS_TEST$Profit, col=\"red\", main=\"Regressor k-NN\",\n",
    "    xlab=\"População\", ylab=\"Lucro\", pch=8, xaxt=\"n\", yaxt=\"n\")\n",
    "\n",
    "points(DADOS_TEST$Population, y_pred$pred, col=\"royalblue\", pch=19)\n",
    "\n",
    "box(bty = \"l\")\n",
    "\n",
    "axis(side = 1)\n",
    "\n",
    "axis(side = 2, \n",
    "     las = 1)\n",
    "\n",
    "legend(x = \"topleft\",\n",
    "       legend = \"Predições kNN\", \n",
    "       #lty = 1,\n",
    "       #lwd = 3,\n",
    "       bty = \"n\",\n",
    "       col=\"royalblue\", pch=19)\n",
    "\n",
    "#dev.off()"
   ]
  },
  {
   "cell_type": "markdown",
   "metadata": {},
   "source": [
    "#### Aplicação do algoritmo Decision Tree"
   ]
  },
  {
   "cell_type": "code",
   "execution_count": 26,
   "metadata": {},
   "outputs": [],
   "source": [
    "library(rpart)"
   ]
  },
  {
   "cell_type": "code",
   "execution_count": 27,
   "metadata": {},
   "outputs": [
    {
     "data": {
      "text/plain": [
       "n= 80 \n",
       "\n",
       "node), split, n, deviance, yval\n",
       "      * denotes terminal node\n",
       "\n",
       " 1) root 80 2283.43900  5.719608  \n",
       "   2) Population< 12.268 71  871.86040  4.353416  \n",
       "     4) Population< 5.8306 25  125.11240  1.988773 *\n",
       "     5) Population>=5.8306 46  530.98760  5.638548  \n",
       "      10) Population< 8.339 31  360.22090  4.775291 *\n",
       "      11) Population>=8.339 15   99.92176  7.422613 *\n",
       "   3) Population>=12.268 9  233.62190 16.497340 *"
      ]
     },
     "metadata": {},
     "output_type": "display_data"
    }
   ],
   "source": [
    "#Criação do modelo\n",
    "dTree = rpart(Profit ~ Population, data=DADOS_TRAIN, control=rpart.control(maxdepth=3))\n",
    "dTree"
   ]
  },
  {
   "cell_type": "code",
   "execution_count": 28,
   "metadata": {},
   "outputs": [
    {
     "name": "stderr",
     "output_type": "stream",
     "text": [
      "Installing package into 'C:/Users/janio/OneDrive/Documents/R/win-library/3.6'\n",
      "(as 'lib' is unspecified)\n"
     ]
    },
    {
     "name": "stdout",
     "output_type": "stream",
     "text": [
      "package 'rpart.plot' successfully unpacked and MD5 sums checked\n",
      "\n",
      "The downloaded binary packages are in\n",
      "\tC:\\Users\\janio\\AppData\\Local\\Temp\\Rtmpovfl0P\\downloaded_packages\n"
     ]
    }
   ],
   "source": [
    "install.packages(\"rpart.plot\")"
   ]
  },
  {
   "cell_type": "code",
   "execution_count": 29,
   "metadata": {},
   "outputs": [
    {
     "name": "stderr",
     "output_type": "stream",
     "text": [
      "Warning message:\n",
      "\"package 'rpart.plot' was built under R version 3.6.3\""
     ]
    }
   ],
   "source": [
    "library(rpart.plot)"
   ]
  },
  {
   "cell_type": "code",
   "execution_count": 30,
   "metadata": {},
   "outputs": [
    {
     "data": {
      "image/png": "[encoded data removed]",
      "text/plain": [
       "plot without title"
      ]
     },
     "metadata": {},
     "output_type": "display_data"
    }
   ],
   "source": [
    "#Ativar para gravar gráfico em arquivo\n",
    "#pdf(\"target/plot1.1.1.5.pdf\", width = 6, height = 6)\n",
    "\n",
    "rpart.plot(dTree, type=2, digits=4)\n",
    "\n",
    "#dev.off()"
   ]
  },
  {
   "cell_type": "code",
   "execution_count": 31,
   "metadata": {},
   "outputs": [
    {
     "data": {
      "text/html": [
       "<dl class=dl-horizontal>\n",
       "\t<dt>3</dt>\n",
       "\t\t<dd>7.42261333333333</dd>\n",
       "\t<dt>19</dt>\n",
       "\t\t<dd>4.77529129032258</dd>\n",
       "\t<dt>23</dt>\n",
       "\t\t<dd>1.9887728</dd>\n",
       "\t<dt>31</dt>\n",
       "\t\t<dd>1.9887728</dd>\n",
       "\t<dt>35</dt>\n",
       "\t\t<dd>4.77529129032258</dd>\n",
       "\t<dt>46</dt>\n",
       "\t\t<dd>4.77529129032258</dd>\n",
       "\t<dt>47</dt>\n",
       "\t\t<dd>1.9887728</dd>\n",
       "\t<dt>51</dt>\n",
       "\t\t<dd>4.77529129032258</dd>\n",
       "\t<dt>57</dt>\n",
       "\t\t<dd>4.77529129032258</dd>\n",
       "\t<dt>58</dt>\n",
       "\t\t<dd>1.9887728</dd>\n",
       "\t<dt>63</dt>\n",
       "\t\t<dd>16.4973444444444</dd>\n",
       "\t<dt>64</dt>\n",
       "\t\t<dd>16.4973444444444</dd>\n",
       "\t<dt>70</dt>\n",
       "\t\t<dd>16.4973444444444</dd>\n",
       "\t<dt>71</dt>\n",
       "\t\t<dd>7.42261333333333</dd>\n",
       "\t<dt>73</dt>\n",
       "\t\t<dd>4.77529129032258</dd>\n",
       "\t<dt>80</dt>\n",
       "\t\t<dd>1.9887728</dd>\n",
       "\t<dt>88</dt>\n",
       "\t\t<dd>4.77529129032258</dd>\n",
       "</dl>\n"
      ],
      "text/latex": [
       "\\begin{description*}\n",
       "\\item[3] 7.42261333333333\n",
       "\\item[19] 4.77529129032258\n",
       "\\item[23] 1.9887728\n",
       "\\item[31] 1.9887728\n",
       "\\item[35] 4.77529129032258\n",
       "\\item[46] 4.77529129032258\n",
       "\\item[47] 1.9887728\n",
       "\\item[51] 4.77529129032258\n",
       "\\item[57] 4.77529129032258\n",
       "\\item[58] 1.9887728\n",
       "\\item[63] 16.4973444444444\n",
       "\\item[64] 16.4973444444444\n",
       "\\item[70] 16.4973444444444\n",
       "\\item[71] 7.42261333333333\n",
       "\\item[73] 4.77529129032258\n",
       "\\item[80] 1.9887728\n",
       "\\item[88] 4.77529129032258\n",
       "\\end{description*}\n"
      ],
      "text/markdown": [
       "3\n",
       ":   7.4226133333333319\n",
       ":   4.7752912903225823\n",
       ":   1.988772831\n",
       ":   1.988772835\n",
       ":   4.7752912903225846\n",
       ":   4.7752912903225847\n",
       ":   1.988772851\n",
       ":   4.7752912903225857\n",
       ":   4.7752912903225858\n",
       ":   1.988772863\n",
       ":   16.497344444444464\n",
       ":   16.497344444444470\n",
       ":   16.497344444444471\n",
       ":   7.4226133333333373\n",
       ":   4.7752912903225880\n",
       ":   1.988772888\n",
       ":   4.77529129032258\n",
       "\n"
      ],
      "text/plain": [
       "        3        19        23        31        35        46        47        51 \n",
       " 7.422613  4.775291  1.988773  1.988773  4.775291  4.775291  1.988773  4.775291 \n",
       "       57        58        63        64        70        71        73        80 \n",
       " 4.775291  1.988773 16.497344 16.497344 16.497344  7.422613  4.775291  1.988773 \n",
       "       88 \n",
       " 4.775291 "
      ]
     },
     "metadata": {},
     "output_type": "display_data"
    }
   ],
   "source": [
    "y_pred = predict(dTree, DADOS_TEST)\n",
    "y_pred"
   ]
  },
  {
   "cell_type": "code",
   "execution_count": 32,
   "metadata": {},
   "outputs": [
    {
     "data": {
      "text/html": [
       "3.14548363155065"
      ],
      "text/latex": [
       "3.14548363155065"
      ],
      "text/markdown": [
       "3.14548363155065"
      ],
      "text/plain": [
       "[1] 3.145484"
      ]
     },
     "metadata": {},
     "output_type": "display_data"
    }
   ],
   "source": [
    "#Avaliação do modelo\n",
    "rmse(DADOS_TEST$Profit, y_pred)"
   ]
  },
  {
   "cell_type": "code",
   "execution_count": 33,
   "metadata": {
    "scrolled": false
   },
   "outputs": [
    {
     "data": {
      "image/png": "[encoded data removed]",
      "text/plain": [
       "Plot with title \"Regressor Decision Tree\""
      ]
     },
     "metadata": {},
     "output_type": "display_data"
    }
   ],
   "source": [
    "#Ativar para gravar gráfico em arquivo\n",
    "#pdf(\"target/plot1.1.1.6.pdf\", width = 6, height = 6)\n",
    "\n",
    "plot(DADOS_TEST$Population, DADOS_TEST$Profit, col=\"red\", main=\"Regressor Decision Tree\",\n",
    "    xlab=\"População\", ylab=\"Lucro\", pch=8, xaxt=\"n\", yaxt=\"n\")\n",
    "\n",
    "points(DADOS_TEST$Population, y_pred, col=\"royalblue\", pch=19)\n",
    "\n",
    "box(bty = \"l\")\n",
    "\n",
    "axis(side = 1)\n",
    "\n",
    "axis(side = 2, \n",
    "     las = 1)\n",
    "\n",
    "legend(x = \"topleft\",\n",
    "       legend = \"Predições Decision Tree\", \n",
    "       #lty = 1,\n",
    "       #lwd = 3,\n",
    "       bty = \"n\",\n",
    "       col=\"royalblue\", pch=19)\n",
    "\n",
    "#dev.off()"
   ]
  },
  {
   "cell_type": "markdown",
   "metadata": {},
   "source": [
    "# Referências e Links"
   ]
  },
  {
   "cell_type": "markdown",
   "metadata": {},
   "source": [
    "**Referências**\n",
    "\n",
    "Amaral, Fernando (2016). Introdução à Ciência de Dados: Mineração de dados e big data. Alta Books.\n",
    "\n",
    "Bruce, Andrew. Bruce, Peter (2019). Estatística Prática para Cientistas de Dados: 50 conceitos essenciais. Alta Books.\n",
    "\n",
    "Escovedo, Tatiana. Koshiyama, Adriano (2020). Introdução a Data Science: algoritmos de machine learning e métodos de análise. Casa do Código.\n",
    "\n",
    "Géron, Aurélien (2019). Mãos à Obra Aprendizagem de Máquina com Scikit-Learn & TensorFlow: Conceitos, ferramentas e técnicas para a construção de sistemas inteligentes. Traduzido por Rafael Contatori. Alta Books.\n",
    "\n",
    "Wichkham, Hadley. Grolemund, Garret (2019). R para Data Science: importe, arrume, transforme, visualiza e modele dados. Alta Books.\n",
    "\n",
    "\n",
    "\n",
    "\n",
    "**Algoritmos e conjuntos de dados:**\n",
    "\n",
    "* Bibliotecas personalizadas e conjuntos de dados usados na análise: https://github.com/MLRG-CEFET-RJ/ml-class/tree/master/ml-t1/code\n",
    "\n",
    "* Códigos complementares usados na análise: https://github.com/janiosl/python.ds/tree/master/ml/T1/code\n",
    "\n",
    "* Seleção de modelos: https://github.com/MLRG-CEFET-RJ/ml-class/blob/master/ppcic_ml_modelselection.ipynb\n",
    "\n",
    "* Avaliação de modelo: https://github.com/MLRG-CEFET-RJ/ml-class/blob/master/ppcic_ml_modeleval_sup.ipynb\n",
    "\n",
    "* Árvore de decisão: https://github.com/MLRG-CEFET-RJ/ml-class/blob/master/ppcic_ml_dtree.ipynb\n",
    "\n",
    "* kNN: https://github.com/MLRG-CEFET-RJ/ml-class/blob/master/ppcic_ml_knn.ipynb\n",
    "\n",
    "* Naive Bayes: https://github.com/MLRG-CEFET-RJ/ml-class/blob/master/ppcic_ml_naivebayes.ipynb\n",
    "\n",
    "* Curva de aprendizado: https://scikit-learn.org/stable/modules/generated/sklearn.model_selection.learning_curve.html#sklearn.model_selection.learning_curve\n",
    "\n",
    "* Aplicação das funções curva de aprendizado: https://scikit-learn.org/stable/auto_examples/model_selection/plot_learning_curve.html\n",
    "\n",
    "* Análise de Componentes Principais - PCA: https://pt.wikipedia.org/wiki/An%C3%A1lise_de_componentes_principais\n",
    "\n",
    "* Agrupamento: https://github.com/MLRG-CEFET-RJ/ml-class/blob/master/ml_clustering.ipynb\n",
    "\n",
    "* Detecção de Anomalias: https://github.com/MLRG-CEFET-RJ/ml-class/tree/master/ml-t2/detanom"
   ]
  },
  {
   "cell_type": "markdown",
   "metadata": {},
   "source": []
  }
 ],
 "metadata": {
  "kernelspec": {
   "display_name": "R",
   "language": "R",
   "name": "ir"
  },
  "language_info": {
   "codemirror_mode": "r",
   "file_extension": ".r",
   "mimetype": "text/x-r-source",
   "name": "R",
   "pygments_lexer": "r",
   "version": "3.6.1"
  }
 },
 "nbformat": 4,
 "nbformat_minor": 4
}
